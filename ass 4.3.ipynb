{
 "cells": [
  {
   "cell_type": "code",
   "execution_count": 1,
   "id": "f380dbd9",
   "metadata": {},
   "outputs": [
    {
     "data": {
      "text/plain": [
       "[16, 25, 4, 81]"
      ]
     },
     "execution_count": 1,
     "metadata": {},
     "output_type": "execute_result"
    }
   ],
   "source": [
    "#Write a Python program to square the elements of a list using map() function.\n",
    "\n",
    "def kkr(n):\n",
    "    return n**2\n",
    "\n",
    "L = [4, 5, 2, 9]\n",
    "list(map(kkr, L))"
   ]
  },
  {
   "cell_type": "code",
   "execution_count": 2,
   "id": "ac1b707a",
   "metadata": {},
   "outputs": [
    {
     "data": {
      "text/plain": [
       "[16, 25, 4, 81]"
      ]
     },
     "execution_count": 2,
     "metadata": {},
     "output_type": "execute_result"
    }
   ],
   "source": [
    "L = [4, 5, 2, 9]\n",
    "M= list(map(lambda q:q**2, L))\n",
    "M\n"
   ]
  },
  {
   "cell_type": "code",
   "execution_count": null,
   "id": "d67ae170",
   "metadata": {},
   "outputs": [],
   "source": []
  }
 ],
 "metadata": {
  "kernelspec": {
   "display_name": "Python 3 (ipykernel)",
   "language": "python",
   "name": "python3"
  },
  "language_info": {
   "codemirror_mode": {
    "name": "ipython",
    "version": 3
   },
   "file_extension": ".py",
   "mimetype": "text/x-python",
   "name": "python",
   "nbconvert_exporter": "python",
   "pygments_lexer": "ipython3",
   "version": "3.10.2"
  }
 },
 "nbformat": 4,
 "nbformat_minor": 5
}
